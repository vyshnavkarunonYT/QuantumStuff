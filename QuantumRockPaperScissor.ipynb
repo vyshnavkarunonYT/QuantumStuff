{
 "cells": [
  {
   "cell_type": "code",
   "execution_count": 7,
   "metadata": {},
   "outputs": [
    {
     "data": {
      "application/javascript": "// Copyright (c) Microsoft Corporation.\n// Licensed under the MIT License.\n\n// This file provides CodeMirror syntax highlighting for Q# magic cells\n// in classic Jupyter Notebooks. It does nothing in other (Jupyter Notebook 7,\n// VS Code, Azure Notebooks, etc.) environments.\n\n// Detect the prerequisites and do nothing if they don't exist.\nif (window.require && window.CodeMirror && window.Jupyter) {\n  // The simple mode plugin for CodeMirror is not loaded by default, so require it.\n  window.require([\"codemirror/addon/mode/simple\"], function defineMode() {\n    let rules = [\n      {\n        token: \"comment\",\n        regex: /(\\/\\/).*/,\n        beginWord: false,\n      },\n      {\n        token: \"string\",\n        regex: String.raw`^\\\"(?:[^\\\"\\\\]|\\\\[\\s\\S])*(?:\\\"|$)`,\n        beginWord: false,\n      },\n      {\n        token: \"keyword\",\n        regex: String.raw`(namespace|open|as|operation|function|body|adjoint|newtype|controlled|internal)\\b`,\n        beginWord: true,\n      },\n      {\n        token: \"keyword\",\n        regex: String.raw`(if|elif|else|repeat|until|fixup|for|in|return|fail|within|apply)\\b`,\n        beginWord: true,\n      },\n      {\n        token: \"keyword\",\n        regex: String.raw`(Adjoint|Controlled|Adj|Ctl|is|self|auto|distribute|invert|intrinsic)\\b`,\n        beginWord: true,\n      },\n      {\n        token: \"keyword\",\n        regex: String.raw`(let|set|use|borrow|mutable)\\b`,\n        beginWord: true,\n      },\n      {\n        token: \"operatorKeyword\",\n        regex: String.raw`(not|and|or)\\b|(w/)`,\n        beginWord: true,\n      },\n      {\n        token: \"operatorKeyword\",\n        regex: String.raw`(=)|(!)|(<)|(>)|(\\+)|(-)|(\\*)|(/)|(\\^)|(%)|(\\|)|(&&&)|(~~~)|(\\.\\.\\.)|(\\.\\.)|(\\?)`,\n        beginWord: false,\n      },\n      {\n        token: \"meta\",\n        regex: String.raw`(Int|BigInt|Double|Bool|Qubit|Pauli|Result|Range|String|Unit)\\b`,\n        beginWord: true,\n      },\n      {\n        token: \"atom\",\n        regex: String.raw`(true|false|Pauli(I|X|Y|Z)|One|Zero)\\b`,\n        beginWord: true,\n      },\n    ];\n    let simpleRules = [];\n    for (let rule of rules) {\n      simpleRules.push({\n        token: rule.token,\n        regex: new RegExp(rule.regex, \"g\"),\n        sol: rule.beginWord,\n      });\n      if (rule.beginWord) {\n        // Need an additional rule due to the fact that CodeMirror simple mode doesn't work with ^ token\n        simpleRules.push({\n          token: rule.token,\n          regex: new RegExp(String.raw`\\W` + rule.regex, \"g\"),\n          sol: false,\n        });\n      }\n    }\n\n    // Register the mode defined above with CodeMirror\n    window.CodeMirror.defineSimpleMode(\"qsharp\", { start: simpleRules });\n    window.CodeMirror.defineMIME(\"text/x-qsharp\", \"qsharp\");\n\n    // Tell Jupyter to associate %%qsharp magic cells with the qsharp mode\n    window.Jupyter.CodeCell.options_default.highlight_modes[\"qsharp\"] = {\n      reg: [/^%%qsharp/],\n    };\n\n    // Force re-highlighting of all cells the first time this code runs\n    for (const cell of window.Jupyter.notebook.get_cells()) {\n      cell.auto_highlight();\n    }\n  });\n}\n",
      "text/plain": []
     },
     "metadata": {},
     "output_type": "display_data"
    }
   ],
   "source": [
    "import qsharp"
   ]
  },
  {
   "cell_type": "code",
   "execution_count": 15,
   "metadata": {
    "vscode": {
     "languageId": "qsharp"
    }
   },
   "outputs": [],
   "source": [
    "%%qsharp\n",
    "open Microsoft.Quantum.Convert;\n",
    "open Microsoft.Quantum.Arrays;\n",
    "open Microsoft.Quantum.Math;\n",
    "//Q# Function to written a number with a given max value\n",
    "operation generateRandomNumInRange(min: Int, max: Int) : Int {\n",
    "    let range = max-min; // Range of values that need to be generated\n",
    "    let nbits = BitSizeI(range); // Gives the number of bits needed to represent the number with the value \"range\"\n",
    "    use qubits = Qubit[nbits]; // Generate a nbit system\n",
    "    ApplyToEach(H,qubits); // Apply Hadamard gate to set the qubits in superposition\n",
    "    let result = ForEach(M, qubits); // Measure the qubits\n",
    "    ResetAll(qubits); // Reset all qubits before releasing\n",
    "    let generatedNum = min + BoolArrayAsInt(ResultArrayAsBoolArray(result)); \n",
    "    return generatedNum > max? generateRandomNumInRange(min, max) | generatedNum; \n",
    "}\n"
   ]
  },
  {
   "cell_type": "code",
   "execution_count": 90,
   "metadata": {},
   "outputs": [
    {
     "name": "stdout",
     "output_type": "stream",
     "text": [
      "0\n"
     ]
    }
   ],
   "source": [
    "print(qsharp.eval(\"generateRandomNumInRange(0,2)\"))"
   ]
  },
  {
   "cell_type": "code",
   "execution_count": 105,
   "metadata": {},
   "outputs": [
    {
     "data": {
      "application/vnd.jupyter.widget-view+json": {
       "model_id": "6a811f187ac544aca31abfa010203923",
       "version_major": 2,
       "version_minor": 0
      },
      "text/plain": [
       "VBox(children=(HTML(value='<h3>Quantum Rock, Paper, Scissors Game</h1><h3>Click on your choice! <h3/>'), HBox(…"
      ]
     },
     "metadata": {},
     "output_type": "display_data"
    },
    {
     "name": "stdout",
     "output_type": "stream",
     "text": [
      "0 0\n",
      "1 2\n",
      "2 2\n",
      "1 2\n",
      "0 2\n",
      "1 1\n",
      "2 2\n",
      "2 1\n",
      "1 0\n",
      "0 2\n",
      "1 1\n",
      "2 0\n"
     ]
    }
   ],
   "source": [
    "# Rock Paper Scissors Game\n",
    "from IPython.display import display\n",
    "import ipywidgets as widgets\n",
    "def clicked(msg):\n",
    "    print(msg,\"button has been clicked!\")\n",
    "\n",
    "rock_btn = widgets.Button(description = 'Rock')\n",
    "paper_btn = widgets.Button(description='Paper')\n",
    "scissors_btn = widgets.Button(description=\"Scissors\")\n",
    "title = widgets.HTML(value=\"<h3>Quantum Rock, Paper, Scissors Game</h1><h3>Click on your choice! <h3/>\")\n",
    "result = widgets.HTML(value=\"<h3>No choice made yet.<h3/>\")\n",
    "\n",
    "p_img_widget = widgets.Image(value=open('res/Rock.jpg', \"rb\").read(), format=\"png\")\n",
    "c_img_widget = widgets.Image(value=open('res/Rock.jpg', \"rb\").read(), format=\"png\")\n",
    "p_text_widget = widgets.HTML(value='<h3>Your Choice</h3>')\n",
    "c_text_widget = widgets.HTML(value='<h3>Computer Choice</h3>')\n",
    "p_choice_box = widgets.VBox([p_text_widget, p_img_widget], layout=widgets.Layout(margin='10px'))\n",
    "c_choice_box = widgets.VBox([c_text_widget, c_img_widget], layout=widgets.Layout(margin='10px'))\n",
    "\n",
    "btn_box = widgets.HBox([rock_btn, paper_btn, scissors_btn])\n",
    "choice_box = widgets.HBox([p_choice_box, c_choice_box])\n",
    "game = widgets.VBox([title, btn_box, choice_box, result])\n",
    "display(game)\n",
    "\n",
    "p_choice = None\n",
    "encoding = ['Rock','Paper', 'Scissors']\n",
    "def player_choice(choice):\n",
    "    c_choice = qsharp.eval(\"generateRandomNumInRange(0,2)\")\n",
    "    p_choice = encoding.index(choice)\n",
    "    print(p_choice, c_choice)\n",
    "    p_img_path = 'res/'+choice+'.jpg'\n",
    "    c_img_path = 'res/'+encoding[c_choice]+'.jpg'\n",
    "    p_img_widget.value = open(p_img_path, \"rb\").read()\n",
    "    c_img_widget.value = open(c_img_path, \"rb\").read()\n",
    "    \n",
    "    diff = (p_choice-c_choice)%3\n",
    "    if diff == 0:\n",
    "        result.value = \"<h3>Draw Game</h3>\"\n",
    "    elif diff == 1:\n",
    "        result.value = \"<h3>You Win!</h3>\"\n",
    "    else:\n",
    "        result.value = \"<h3>Computer Wins!</h3>\"\n",
    "\n",
    "    \n",
    "# Adding action listeners to the buttons\n",
    "rock_btn.on_click(lambda x: player_choice(\"Rock\"))\n",
    "paper_btn.on_click(lambda x: player_choice(\"Paper\"))\n",
    "scissors_btn.on_click(lambda x: player_choice(\"Scissors\"))"
   ]
  }
 ],
 "metadata": {
  "kernelspec": {
   "display_name": ".venv",
   "language": "python",
   "name": "python3"
  },
  "language_info": {
   "codemirror_mode": {
    "name": "ipython",
    "version": 3
   },
   "file_extension": ".py",
   "mimetype": "text/x-python",
   "name": "python",
   "nbconvert_exporter": "python",
   "pygments_lexer": "ipython3",
   "version": "3.11.5"
  }
 },
 "nbformat": 4,
 "nbformat_minor": 2
}
